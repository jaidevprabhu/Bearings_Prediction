{
 "cells": [
  {
   "cell_type": "code",
   "execution_count": 2,
   "id": "657180ce-93a6-4b9f-abe5-22ebedd6aa23",
   "metadata": {},
   "outputs": [],
   "source": [
    "import numpy as np\n",
    "import pandas as pd\n",
    "\n",
    "import os\n",
    "from datetime import datetime\n",
    "\n",
    "import matplotlib.pyplot as plt\n",
    "import seaborn as sns"
   ]
  },
  {
   "cell_type": "code",
   "execution_count": 4,
   "id": "5727ee3c-2d5f-4a69-931a-b61a623ae8ff",
   "metadata": {},
   "outputs": [],
   "source": [
    "#results_folder = f'../data/results/'\n",
    "results_folder = f'../data/undersampled_4khz_results'\n",
    "\n",
    "tests_channels = { \n",
    "    1 : [1,2,3,4,5,6,7,8,], \n",
    "    2 : [1,2,3,4,], \n",
    "    3 : [1,2,3,4,], \n",
    "}"
   ]
  },
  {
   "cell_type": "code",
   "execution_count": 6,
   "id": "596c0c73-12b7-4d4a-b410-d93e83d6e6c2",
   "metadata": {},
   "outputs": [],
   "source": [
    "def read_test_channel_data(test, channel):\n",
    "    global results_folder\n",
    "    global tests_channels\n",
    "    \n",
    "    # Validate test and channel\n",
    "    if test not in tests_channels:\n",
    "        raise ValueError(f\"Invalid test number: {test}. Available tests: {list(tests_channels.keys())}\")\n",
    "    \n",
    "    if channel not in tests_channels[test]:\n",
    "        raise ValueError(f\"Invalid channel number: {channel}. Available channels for test {test}: {tests_channels[test]}\")\n",
    "    \n",
    "    # Construct the file name\n",
    "    test_file_name = f'Test_{test}_Channel_{channel}.csv'\n",
    "    file_path = os.path.join(results_folder, test_file_name)\n",
    "    \n",
    "    # Attempt to read the CSV file\n",
    "    try:\n",
    "        df = pd.read_csv(file_path, index_col=False, header=0)\n",
    "        # Add a new column 'test' with the test number\n",
    "        df['test'] = test\n",
    "        return df\n",
    "    except FileNotFoundError:\n",
    "        raise FileNotFoundError(f\"File not found: {file_path}. Please check the file path and name.\")\n",
    "    except pd.errors.EmptyDataError:\n",
    "        raise ValueError(f\"The file {file_path} is empty.\")\n",
    "    except Exception as e:\n",
    "        raise Exception(f\"An error occurred while reading the file: {e}\")"
   ]
  },
  {
   "cell_type": "code",
   "execution_count": 8,
   "id": "2f33c56c-9f91-4a30-8fdb-773f7d0d3d06",
   "metadata": {},
   "outputs": [],
   "source": [
    "def create_unique_id(df, test, channel):\n",
    "    \"\"\"Create a unique identifier for each row based on test number, channel number, and time.\"\"\"\n",
    "    if 'time' not in df.columns:\n",
    "        raise ValueError(\"The DataFrame must contain a 'time' column to create unique IDs.\")\n",
    "    \n",
    "    # Create the unique ID by combining test, channel, and time\n",
    "    df['id'] = df.apply(lambda row: f\"{test}_{channel}_{row['time']}\", axis=1)\n",
    "    return df\n"
   ]
  },
  {
   "cell_type": "code",
   "execution_count": 10,
   "id": "b60d31dc-8263-40da-a22e-29d17498fd40",
   "metadata": {},
   "outputs": [],
   "source": [
    "def coalesce_data():\n",
    "    \"\"\"\n",
    "    Read all data for the given test and channel combinations and coalesce into a single DataFrame.\n",
    "    \"\"\"\n",
    "    all_data = []\n",
    "    \n",
    "    for test, channels in tests_channels.items():\n",
    "        for channel in channels:\n",
    "            try:\n",
    "                df = read_test_channel_data(test, channel)\n",
    "                df = create_unique_id(df, test, channel)\n",
    "                all_data.append(df)\n",
    "            except Exception as e:\n",
    "                print(f\"Error processing Test {test}, Channel {channel}: {e}\")\n",
    "    \n",
    "    # Concatenate all DataFrames into a single DataFrame\n",
    "    if all_data:\n",
    "        combined_df = pd.concat(all_data, ignore_index=True)\n",
    "        return combined_df\n",
    "    else:\n",
    "        return pd.DataFrame()  # Return an empty DataFrame if no data was read"
   ]
  },
  {
   "cell_type": "code",
   "execution_count": 12,
   "id": "880e0853-855b-4bcd-87cb-8bf7d28d1fc5",
   "metadata": {},
   "outputs": [],
   "source": [
    "def parse_unique_id(unique_id):\n",
    "    \"\"\"Parse the unique ID to extract test number, channel number, and time as a datetime object.\"\"\"\n",
    "    try:\n",
    "        # Split the unique ID into components\n",
    "        parts = unique_id.split('_')\n",
    "        \n",
    "        # Extract test number, channel number, and time\n",
    "        test = int(parts[0])\n",
    "        channel = int(parts[1])\n",
    "        time_str = parts[2]\n",
    "        \n",
    "        # Convert time string to datetime object\n",
    "        time = datetime.strptime(time_str, '%Y-%m-%d %H:%M:%S')  # Adjust format as needed '%Y.%m.%d.%H.%M.%S'\n",
    "        \n",
    "        return test, channel, time\n",
    "    except (IndexError, ValueError) as e:\n",
    "        raise ValueError(f\"Invalid unique ID format: {unique_id}. Error: {e}\")\n",
    "\n",
    "# Example usage:\n",
    "# unique_id = \"1_2_2023-10-01 12:30:00\"\n",
    "# test, channel, time = parse_unique_id(unique_id)\n",
    "# print(test, channel, time)"
   ]
  },
  {
   "cell_type": "code",
   "execution_count": 14,
   "id": "7d951828-df02-44fc-a5a4-414a5c0564b6",
   "metadata": {},
   "outputs": [],
   "source": [
    "def mark_failure(df, test_number, channel_number, from_time, to_time=None):\n",
    "    \"\"\"\n",
    "    Update the 'class' value to 1 for rows in the dataframe that fall within the specified time range\n",
    "    and match the given test_number and channel_number.\n",
    "\n",
    "    Parameters:\n",
    "    df (pd.DataFrame): The dataframe containing the data.\n",
    "    test_number (int): The test number to match.\n",
    "    channel_number (int): The channel number to match.\n",
    "    from_time (datetime): The start of the time range.\n",
    "    to_time (datetime, optional): The end of the time range. If not specified, extends to the end of the dataframe.\n",
    "\n",
    "    Raises:\n",
    "    ValueError: If from_time is greater than to_time.\n",
    "    KeyError: If the 'id' column is not found in the dataframe or if 'time' column is missing.\n",
    "    \"\"\"\n",
    "    if to_time is None:\n",
    "        to_time = df['time'].max()  # Set to_time to the maximum time if not provided\n",
    "\n",
    "    if from_time > to_time:\n",
    "        raise ValueError(\"from_time must be less than or equal to to_time.\")\n",
    "\n",
    "    # Filter the dataframe based on the given time range\n",
    "    mask = (df['time'] >= from_time) & (df['time'] <= to_time)\n",
    "    \n",
    "    for idx in df[mask].index:\n",
    "        try:\n",
    "            test, channel, _ = parse_unique_id(df.at[idx, 'id'])\n",
    "            if test == test_number and channel == channel_number:\n",
    "                df.at[idx, 'class'] = 1\n",
    "        except KeyError:\n",
    "            raise KeyError(\"The 'id' column is not found in the dataframe or 'time' column is missing.\")\n",
    "        except Exception as e:\n",
    "            print(f\"An error occurred while processing index {idx}: {e}\")"
   ]
  },
  {
   "cell_type": "code",
   "execution_count": 16,
   "id": "9886e0f0-2d2c-4dd6-8bb1-1c08b9822d8d",
   "metadata": {},
   "outputs": [],
   "source": [
    "def mark_pre_fault(df, test_number, channel_number, from_time, to_time=None):\n",
    "    \"\"\"\n",
    "    Update the 'class' value to 2 for rows in the dataframe that fall within the specified time range\n",
    "    and match the given test_number and channel_number.\n",
    "\n",
    "    Parameters:\n",
    "    df (pd.DataFrame): The dataframe containing the data.\n",
    "    test_number (int): The test number to match.\n",
    "    channel_number (int): The channel number to match.\n",
    "    from_time (datetime): The start of the time range.\n",
    "    to_time (datetime, optional): The end of the time range. If not specified, extends to the end of the dataframe.\n",
    "\n",
    "    Raises:\n",
    "    ValueError: If from_time is greater than to_time.\n",
    "    KeyError: If the 'id' column is not found in the dataframe or if 'time' column is missing.\n",
    "    \"\"\"\n",
    "    if to_time is None:\n",
    "        to_time = df['time'].max()  # Set to_time to the maximum time if not provided\n",
    "\n",
    "    if from_time > to_time:\n",
    "        raise ValueError(\"from_time must be less than or equal to to_time.\")\n",
    "\n",
    "    # Filter the dataframe based on the given time range\n",
    "    mask = (df['time'] >= from_time) & (df['time'] <= to_time)\n",
    "    \n",
    "    for idx in df[mask].index:\n",
    "        try:\n",
    "            test, channel, _ = parse_unique_id(df.at[idx, 'id'])\n",
    "            if test == test_number and channel == channel_number:\n",
    "                df.at[idx, 'class'] = 2\n",
    "        except KeyError:\n",
    "            raise KeyError(\"The 'id' column is not found in the dataframe or 'time' column is missing.\")\n",
    "        except Exception as e:\n",
    "            print(f\"An error occurred while processing index {idx}: {e}\")"
   ]
  },
  {
   "cell_type": "code",
   "execution_count": 18,
   "id": "900202e9-f723-47cc-bc6e-94adb71cc94c",
   "metadata": {},
   "outputs": [],
   "source": [
    "full_data_frame = coalesce_data()"
   ]
  },
  {
   "cell_type": "code",
   "execution_count": null,
   "id": "8525aae3-fc3d-47a4-b402-741758f1baeb",
   "metadata": {},
   "outputs": [],
   "source": [
    "file_name_full_data = 'full_data.csv'\n",
    "full_data_frame = pd.read_csv( \n",
    "    os.path.join(results_folder, file_name_full_data),\n",
    "    index_col = False,\n",
    "    header = 0,\n",
    ")\n"
   ]
  },
  {
   "cell_type": "code",
   "execution_count": null,
   "id": "01708977-2f83-4185-b305-c9764cc18797",
   "metadata": {},
   "outputs": [],
   "source": [
    "file_name_full_data = 'full_data.csv'\n",
    "full_data_frame.to_csv(\n",
    "    os.path.join(results_folder, file_name_full_data),\n",
    "    index = False,    \n",
    ")"
   ]
  },
  {
   "cell_type": "code",
   "execution_count": null,
   "id": "438038dc-73c2-4a5c-aaf1-35860c93f5b6",
   "metadata": {},
   "outputs": [],
   "source": [
    "full_data_frame[full_data_frame['channel'] == 1].head()"
   ]
  },
  {
   "cell_type": "code",
   "execution_count": 20,
   "id": "60e7bbc5-ecee-4b40-ae73-69f2ec30a590",
   "metadata": {},
   "outputs": [],
   "source": [
    "full_data_frame['time'] = pd.to_datetime(full_data_frame['time'])"
   ]
  },
  {
   "cell_type": "code",
   "execution_count": 22,
   "id": "085d38f7-1da9-4a81-8233-ec36f745177e",
   "metadata": {},
   "outputs": [],
   "source": [
    "# Set the 'time' column as the index\n",
    "#full_data_frame.set_index('time', inplace=True)\n",
    "###  DO NOT set_index for now ###"
   ]
  },
  {
   "cell_type": "code",
   "execution_count": 24,
   "id": "39682a1f-99a1-4c01-ad61-f1c1ab6befcb",
   "metadata": {},
   "outputs": [],
   "source": [
    "full_data_frame['class'] = 0"
   ]
  },
  {
   "cell_type": "code",
   "execution_count": 26,
   "id": "6f75d359-6eae-48d1-bc7f-ed0b8b0d7924",
   "metadata": {},
   "outputs": [],
   "source": [
    "# Test 1 - Bearing 1 (Channel 1)\n",
    "# 2003-11-25 00:00:00\n",
    "from_time = datetime.strptime('2003-11-25 00:00:00', '%Y-%m-%d %H:%M:%S')\n",
    "mark_pre_fault(full_data_frame, test_number = 1, channel_number = 1, from_time = from_time)"
   ]
  },
  {
   "cell_type": "code",
   "execution_count": 28,
   "id": "8f6216bd-3be6-4916-bcae-9c049108e651",
   "metadata": {},
   "outputs": [],
   "source": [
    "# Test 1 - Bearing 1 (Channel 2)\n",
    "# 2003-11-25 00:00:00\n",
    "from_time = datetime.strptime('2003-11-25 00:00:00', '%Y-%m-%d %H:%M:%S')\n",
    "mark_pre_fault(full_data_frame, test_number = 1, channel_number = 2, from_time = from_time)"
   ]
  },
  {
   "cell_type": "code",
   "execution_count": 30,
   "id": "5c0b88ad-009e-4fdc-8964-b195adc8e04d",
   "metadata": {},
   "outputs": [],
   "source": [
    "# Test 1 - Bearing 2 (Channel 3)\n",
    "# 2003-11-25 00:00:00\n",
    "from_time = datetime.strptime('2003-11-25 00:00:00', '%Y-%m-%d %H:%M:%S')\n",
    "mark_pre_fault(full_data_frame, test_number = 1, channel_number = 3, from_time = from_time)"
   ]
  },
  {
   "cell_type": "code",
   "execution_count": 32,
   "id": "2438a5bd-8b70-4fcd-acc3-986890daa811",
   "metadata": {},
   "outputs": [],
   "source": [
    "# Test 1 - Bearing 2 (Channel 4)\n",
    "# 2003-11-25 00:00:00\n",
    "from_time = datetime.strptime('2003-11-25 00:00:00', '%Y-%m-%d %H:%M:%S')\n",
    "mark_pre_fault(full_data_frame, test_number = 1, channel_number = 4, from_time = from_time)"
   ]
  },
  {
   "cell_type": "code",
   "execution_count": 34,
   "id": "e4c77ca7-1efa-4283-93f6-55b8df0291ea",
   "metadata": {},
   "outputs": [],
   "source": [
    "# Test 1 - Bearing 3 (Channel 5)\n",
    "# 2003-11-22 00:00:00\n",
    "from_time = datetime.strptime('2003-11-22 00:00:00', '%Y-%m-%d %H:%M:%S')\n",
    "mark_pre_fault(full_data_frame, test_number = 1, channel_number = 5, from_time = from_time)"
   ]
  },
  {
   "cell_type": "code",
   "execution_count": 36,
   "id": "b052ace4-0f69-44cf-aacd-78966f5a1c53",
   "metadata": {},
   "outputs": [],
   "source": [
    "# Test 1 - Bearing 3 (Channel 5)\n",
    "# 2003-11-22 19:30:00\n",
    "from_time = datetime.strptime('2003-11-22 19:30:00', '%Y-%m-%d %H:%M:%S')\n",
    "mark_failure(full_data_frame, test_number = 1, channel_number = 5, from_time = from_time)"
   ]
  },
  {
   "cell_type": "code",
   "execution_count": 38,
   "id": "409cd762-abbb-4e87-bed7-aef0dc4aec90",
   "metadata": {},
   "outputs": [],
   "source": [
    "# Test 1 - Bearing 3 (Channel 6)\n",
    "# 2003-11-22 00:00:00\n",
    "from_time = datetime.strptime('2003-11-22 00:00:00', '%Y-%m-%d %H:%M:%S')\n",
    "mark_pre_fault(full_data_frame, test_number = 1, channel_number = 6, from_time = from_time)"
   ]
  },
  {
   "cell_type": "code",
   "execution_count": 40,
   "id": "381ca2da-89b8-4c40-9192-b248804f8140",
   "metadata": {},
   "outputs": [],
   "source": [
    "# Test 1 - Bearing 3 (Channel 6)\n",
    "# 2003-11-22 19:30:00\n",
    "from_time = datetime.strptime('2003-11-22 19:30:00', '%Y-%m-%d %H:%M:%S')\n",
    "mark_failure(full_data_frame, test_number = 1, channel_number = 6, from_time = from_time)"
   ]
  },
  {
   "cell_type": "code",
   "execution_count": 42,
   "id": "bdc69c8f-8b76-402c-b4ad-8f9d15bd4040",
   "metadata": {},
   "outputs": [],
   "source": [
    "# Test 1 - Bearing 4 (Channel 7)\n",
    "# 2003-11-20 23:40:00\n",
    "from_time = datetime.strptime('2003-11-19 00:00:00', '%Y-%m-%d %H:%M:%S')\n",
    "mark_pre_fault(full_data_frame, test_number = 1, channel_number = 7, from_time = from_time)"
   ]
  },
  {
   "cell_type": "code",
   "execution_count": 44,
   "id": "580d09c9-65fb-4df8-9e90-838c00a5146a",
   "metadata": {},
   "outputs": [],
   "source": [
    "# Test 1 - Bearing 4 (Channel 7)\n",
    "# 2003-11-20 23:40:00\n",
    "from_time = datetime.strptime('2003-11-20 23:40:00', '%Y-%m-%d %H:%M:%S')\n",
    "mark_failure(full_data_frame, test_number = 1, channel_number = 7, from_time = from_time)"
   ]
  },
  {
   "cell_type": "code",
   "execution_count": 46,
   "id": "c8d63766-59ba-4a1b-ac8a-4839bf7b7701",
   "metadata": {},
   "outputs": [],
   "source": [
    "# Test 1 - Bearing 4 (Channel 8)\n",
    "from_time = datetime.strptime('2003-11-19 00:00:00', '%Y-%m-%d %H:%M:%S')\n",
    "mark_pre_fault(full_data_frame, test_number = 1, channel_number = 8, from_time = from_time)"
   ]
  },
  {
   "cell_type": "code",
   "execution_count": 48,
   "id": "2f299175-db29-44ac-8e88-fabdfe445f09",
   "metadata": {},
   "outputs": [],
   "source": [
    "# Test 1 - Bearing 4 (Channel 8)\n",
    "from_time = datetime.strptime('2003-11-20 23:40:00', '%Y-%m-%d %H:%M:%S')\n",
    "mark_failure(full_data_frame, test_number = 1, channel_number = 8, from_time = from_time)"
   ]
  },
  {
   "cell_type": "code",
   "execution_count": 50,
   "id": "9977fd46-84b3-45ed-b116-b009119a0411",
   "metadata": {},
   "outputs": [],
   "source": [
    "# Test 2 - Bearing 1 (Channel 1)\n",
    "# 2004-02-17 18:00:00\n",
    "from_time = datetime.strptime('2004-02-17 18:00:00', '%Y-%m-%d %H:%M:%S')\n",
    "mark_pre_fault(full_data_frame, test_number = 2, channel_number = 1, from_time = from_time)"
   ]
  },
  {
   "cell_type": "code",
   "execution_count": 52,
   "id": "1725afd6-ce27-4f79-a408-ad19b1296a0a",
   "metadata": {},
   "outputs": [],
   "source": [
    "# Test 2 - Bearing 1 (Channel 1)\n",
    "# 2004-02-18 17:00:00\n",
    "from_time = datetime.strptime('2004-02-18 17:00:00', '%Y-%m-%d %H:%M:%S')\n",
    "mark_failure(full_data_frame, test_number = 2, channel_number = 1, from_time = from_time)"
   ]
  },
  {
   "cell_type": "code",
   "execution_count": 54,
   "id": "adb59ad8-5eb9-45e3-adc9-3bace51ce261",
   "metadata": {},
   "outputs": [],
   "source": [
    "# Test 2 - Bearing 2 (Channel 2)\n",
    "# 2004-02-18 12:00:00\n",
    "from_time = datetime.strptime('2004-02-18 12:00:00', '%Y-%m-%d %H:%M:%S')\n",
    "mark_pre_fault(full_data_frame, test_number = 2, channel_number = 2, from_time = from_time)"
   ]
  },
  {
   "cell_type": "code",
   "execution_count": 56,
   "id": "7e31641f-f5d5-4601-96b1-cc1e1bee40e6",
   "metadata": {},
   "outputs": [],
   "source": [
    "# Test 2 - Bearing 3 (Channel 3)\n",
    "# 2004-02-18 12:00:00\n",
    "from_time = datetime.strptime('2004-02-18 12:00:00', '%Y-%m-%d %H:%M:%S')\n",
    "mark_pre_fault(full_data_frame, test_number = 2, channel_number = 3, from_time = from_time)"
   ]
  },
  {
   "cell_type": "code",
   "execution_count": 58,
   "id": "09930d24-9812-46f8-b133-5187dbe05a22",
   "metadata": {},
   "outputs": [],
   "source": [
    "# Test 2 - Bearing 4 (Channel 4)\n",
    "# 2004-02-18 16:00:00\n",
    "from_time = datetime.strptime('2004-02-18 16:00:00', '%Y-%m-%d %H:%M:%S')\n",
    "mark_pre_fault(full_data_frame, test_number = 2, channel_number = 4, from_time = from_time)"
   ]
  },
  {
   "cell_type": "code",
   "execution_count": 60,
   "id": "e4207309-8afd-48ea-b8d2-ce62f0ce8580",
   "metadata": {},
   "outputs": [],
   "source": [
    "# Test 3 - Bearing 1 (Channel 1)\n",
    "# 2004-04-17 00:00:00\n",
    "from_time = datetime.strptime('2004-04-17 00:00:00', '%Y-%m-%d %H:%M:%S')\n",
    "mark_pre_fault(full_data_frame, test_number = 3, channel_number = 1, from_time = from_time)"
   ]
  },
  {
   "cell_type": "code",
   "execution_count": 62,
   "id": "dd4c09c3-ef59-42c4-9767-04316801884e",
   "metadata": {},
   "outputs": [],
   "source": [
    "# Test 3 - Bearing 2 (Channel 2)\n",
    "# 2004-04-17 00:00:00\n",
    "from_time = datetime.strptime('2004-04-17 00:00:00', '%Y-%m-%d %H:%M:%S')\n",
    "mark_pre_fault(full_data_frame, test_number = 3, channel_number = 2, from_time = from_time)"
   ]
  },
  {
   "cell_type": "code",
   "execution_count": 64,
   "id": "18969493-6990-47ec-b6cc-5765f104d9a3",
   "metadata": {},
   "outputs": [],
   "source": [
    "# Test 3 - Bearing 3 (Channel 3)\n",
    "# 2004-04-16 23:22:55\n",
    "from_time = datetime.strptime('2004-04-16 23:22:50', '%Y-%m-%d %H:%M:%S')\n",
    "mark_pre_fault(full_data_frame, test_number = 3, channel_number = 3, from_time = from_time)"
   ]
  },
  {
   "cell_type": "code",
   "execution_count": 66,
   "id": "00f22943-72c6-4e03-8248-a769be8de07d",
   "metadata": {},
   "outputs": [],
   "source": [
    "# Test 3 - Bearing 3 (Channel 3)\n",
    "# 2004-04-17 12:00:00\n",
    "from_time = datetime.strptime('2004-04-17 12:00:00', '%Y-%m-%d %H:%M:%S')\n",
    "mark_failure(full_data_frame, test_number = 3, channel_number = 3, from_time = from_time)"
   ]
  },
  {
   "cell_type": "code",
   "execution_count": 68,
   "id": "9ae0ed53-44ac-4ee2-865f-8e0a10474f58",
   "metadata": {},
   "outputs": [],
   "source": [
    "# Test 3 - Bearing 4 (Channel 4)\n",
    "# 2004-04-17 00:00:00\n",
    "from_time = datetime.strptime('2004-04-17 00:00:00', '%Y-%m-%d %H:%M:%S')\n",
    "mark_pre_fault(full_data_frame, test_number = 3, channel_number = 4, from_time = from_time)"
   ]
  },
  {
   "cell_type": "code",
   "execution_count": null,
   "id": "6905b4d9-414e-47b5-9270-8ac1be901076",
   "metadata": {},
   "outputs": [],
   "source": []
  },
  {
   "cell_type": "code",
   "execution_count": null,
   "id": "04f5386c-30b3-44be-a397-ec0a7a62ced1",
   "metadata": {},
   "outputs": [],
   "source": []
  },
  {
   "cell_type": "code",
   "execution_count": null,
   "id": "bb831708-6442-4749-b278-a58241c37723",
   "metadata": {},
   "outputs": [],
   "source": []
  },
  {
   "cell_type": "code",
   "execution_count": null,
   "id": "1cbdcc6a-5b62-46d4-bd0f-c764a4502bce",
   "metadata": {},
   "outputs": [],
   "source": []
  },
  {
   "cell_type": "code",
   "execution_count": null,
   "id": "ca6fbe2c-6c20-4a7d-955c-7926e2b3f707",
   "metadata": {},
   "outputs": [],
   "source": []
  },
  {
   "cell_type": "code",
   "execution_count": null,
   "id": "a957dc11-d03c-4ce2-8d2c-c5f7a61d3a00",
   "metadata": {},
   "outputs": [],
   "source": []
  },
  {
   "cell_type": "code",
   "execution_count": null,
   "id": "e80c0fd3-d771-4ca1-8a4a-8e4fb97197b4",
   "metadata": {},
   "outputs": [],
   "source": []
  },
  {
   "cell_type": "code",
   "execution_count": 70,
   "id": "9cecb00e-a711-4248-af4b-52d5ec82b6ed",
   "metadata": {},
   "outputs": [],
   "source": [
    "file_name_full_data = 'full_data_with_failure_and_all_pre-fault_marking.csv'\n",
    "\n",
    "full_data_frame.to_csv(\n",
    "    os.path.join(results_folder, file_name_full_data),\n",
    "    index = False,    \n",
    ")"
   ]
  },
  {
   "cell_type": "markdown",
   "id": "ebc2d320-105b-4cf0-a489-66d5f97dbf58",
   "metadata": {},
   "source": [
    "### Scratch pad area"
   ]
  },
  {
   "cell_type": "code",
   "execution_count": null,
   "id": "edd619b3-e6e2-4bad-bd15-3f8a0c7d5bbf",
   "metadata": {},
   "outputs": [],
   "source": [
    "#full_data_frame[full_data_frame['class'] == 1].head()"
   ]
  },
  {
   "cell_type": "code",
   "execution_count": null,
   "id": "9d185a82-0ac7-4bef-9a27-4223eb9ae715",
   "metadata": {},
   "outputs": [],
   "source": []
  },
  {
   "cell_type": "code",
   "execution_count": null,
   "id": "1878f35a-820f-41d2-a8c5-139ef4217b9b",
   "metadata": {},
   "outputs": [],
   "source": []
  },
  {
   "cell_type": "raw",
   "id": "32c04fb3-c5d6-4cb0-8d90-5640e13b6651",
   "metadata": {},
   "source": [
    "def mark_failure(df, test_number, channel_number, from_time, to_time = None):\n",
    "    \"\"\"\n",
    "    Update the 'class' value to 1 for rows in the full_data_frame that fall within the specified time range\n",
    "    and match the given test_number and channel_number.\n",
    "\n",
    "    Parameters:\n",
    "    df (pd.DataFrame): The dataframe containing the data.\n",
    "    test_number (int): The test number to match.\n",
    "    channel_number (int): The channel number to match.\n",
    "    from_time (datetime): The start of the time range.\n",
    "    to_time (datetime, optional): The end of the time range. If not specified, extends to the end of the dataframe.\n",
    "\n",
    "\n",
    "    Raises:\n",
    "    ValueError: If from_time is greater than to_time.\n",
    "    KeyError: If the 'id' column is not found in the dataframe.\n",
    "    \"\"\"\n",
    "    if to_time is None:\n",
    "        to_time = df.index[-1]  # Set to_time to the last index if not provided\n",
    "\n",
    "    if from_time > to_time:\n",
    "        raise ValueError(\"from_time must be less than or equal to to_time.\")\n",
    "\n",
    "    # Filter the dataframe based on the given time range\n",
    "    mask = (df.index >= from_time) & (df.index <= to_time)\n",
    "    for idx in df[mask].index:\n",
    "        try:\n",
    "            test, channel, _ = parse_unique_id(df.at[idx, 'id'])\n",
    "            if test == test_number and channel == channel_number:\n",
    "                df.at[idx, 'class'] = 1\n",
    "        except KeyError:\n",
    "            raise KeyError(\"The 'id' column is not found in the dataframe.\")\n",
    "        except Exception as e:\n",
    "            print(f\"An error occurred while processing index {idx}: {e}\")"
   ]
  }
 ],
 "metadata": {
  "kernelspec": {
   "display_name": "Python 3 (ipykernel)",
   "language": "python",
   "name": "python3"
  },
  "language_info": {
   "codemirror_mode": {
    "name": "ipython",
    "version": 3
   },
   "file_extension": ".py",
   "mimetype": "text/x-python",
   "name": "python",
   "nbconvert_exporter": "python",
   "pygments_lexer": "ipython3",
   "version": "3.11.7"
  }
 },
 "nbformat": 4,
 "nbformat_minor": 5
}
